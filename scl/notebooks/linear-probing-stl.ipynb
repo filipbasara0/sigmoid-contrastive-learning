{
 "cells": [
  {
   "cell_type": "code",
   "execution_count": 1,
   "id": "1d05ceca",
   "metadata": {
    "scrolled": true
   },
   "outputs": [
    {
     "name": "stderr",
     "output_type": "stream",
     "text": [
      "/usr/lib/python3/dist-packages/requests/__init__.py:89: RequestsDependencyWarning: urllib3 (2.1.0) or chardet (3.0.4) doesn't match a supported version!\n",
      "  warnings.warn(\"urllib3 ({}) or chardet ({}) doesn't match a supported \"\n",
      "/home/wavelet/.local/lib/python3.10/site-packages/tqdm/auto.py:21: TqdmWarning: IProgress not found. Please update jupyter and ipywidgets. See https://ipywidgets.readthedocs.io/en/stable/user_install.html\n",
      "  from .autonotebook import tqdm as notebook_tqdm\n"
     ]
    }
   ],
   "source": [
    "import sys\n",
    "sys.path.append(\"../\")\n",
    "\n",
    "import torch\n",
    "import torchvision\n",
    "from torch.utils.data import DataLoader\n",
    "\n",
    "from scl.encoders import resnet50\n",
    "from scl.aug import get_inference_transforms"
   ]
  },
  {
   "cell_type": "code",
   "execution_count": 2,
   "id": "ea87b9e4",
   "metadata": {},
   "outputs": [],
   "source": [
    "device = torch.device(\"cuda\" if torch.cuda.is_available() else \"cpu\")"
   ]
  },
  {
   "cell_type": "code",
   "execution_count": 3,
   "id": "ec7dccba",
   "metadata": {},
   "outputs": [
    {
     "name": "stdout",
     "output_type": "stream",
     "text": [
      "Files already downloaded and verified\n",
      "Files already downloaded and verified\n"
     ]
    }
   ],
   "source": [
    "IMAGE_SIZE = 96\n",
    "transform = get_inference_transforms(image_size=(IMAGE_SIZE, IMAGE_SIZE))\n",
    "\n",
    "train_ds = torchvision.datasets.STL10(\"../data/\",\n",
    "                                  split='train',\n",
    "                                  transform=transform,\n",
    "                                  download=True)\n",
    "val_ds = torchvision.datasets.STL10(\"../data\",\n",
    "                                  split='test',\n",
    "                                  transform=transform,\n",
    "                                  download=True)\n",
    "\n",
    "train_loader = DataLoader(train_ds,\n",
    "                          batch_size=128,\n",
    "                          num_workers=4)\n",
    "val_loader = DataLoader(val_ds,\n",
    "                       batch_size=128,\n",
    "                       num_workers=4)"
   ]
  },
  {
   "cell_type": "code",
   "execution_count": 4,
   "id": "a900a33e",
   "metadata": {},
   "outputs": [
    {
     "data": {
      "text/plain": [
       "(5000, 8000)"
      ]
     },
     "execution_count": 4,
     "metadata": {},
     "output_type": "execute_result"
    }
   ],
   "source": [
    "len(train_ds), len(val_ds)"
   ]
  },
  {
   "cell_type": "code",
   "execution_count": 5,
   "id": "a402d632",
   "metadata": {
    "scrolled": true
   },
   "outputs": [],
   "source": [
    "ckpt = torch.load(\"../models/encoder_sigcon_alpha0.1_gamma0.0_300epochs.pth\")\n",
    "\n",
    "# model = resnet18()\n",
    "model = resnet50()\n",
    "model.load_state_dict(ckpt)\n",
    "\n",
    "model = model.eval().to(device)"
   ]
  },
  {
   "cell_type": "code",
   "execution_count": 6,
   "id": "cda08697",
   "metadata": {
    "scrolled": true
   },
   "outputs": [],
   "source": [
    "from tqdm.auto import tqdm\n",
    "import numpy as np\n",
    "import torch.nn.functional as F\n",
    "\n",
    "def get_embs_labels(dl):\n",
    "    idx = 0\n",
    "    embs, labels = [], []\n",
    "    for idx, (images, targets) in enumerate(tqdm(dl)):\n",
    "        with torch.no_grad():\n",
    "            images = images.to(device)\n",
    "            out = model(images)\n",
    "            features = out.cpu().detach()\n",
    "            features = F.normalize(features, p=2, dim=-1)\n",
    "            embs.extend(features.tolist())\n",
    "            labels.extend(targets.cpu().detach().tolist())\n",
    "    return np.array(embs), np.array(labels)"
   ]
  },
  {
   "cell_type": "code",
   "execution_count": 7,
   "id": "e4788ba1",
   "metadata": {
    "scrolled": true
   },
   "outputs": [
    {
     "name": "stderr",
     "output_type": "stream",
     "text": [
      "100%|██████████| 40/40 [00:01<00:00, 26.23it/s]\n",
      "100%|██████████| 63/63 [00:01<00:00, 38.28it/s]\n"
     ]
    }
   ],
   "source": [
    "embeddings, labels = get_embs_labels(train_loader)\n",
    "embeddings_val, labels_val = get_embs_labels(val_loader)"
   ]
  },
  {
   "cell_type": "code",
   "execution_count": 8,
   "id": "e49f36a0",
   "metadata": {},
   "outputs": [],
   "source": [
    "from sklearn.calibration import CalibratedClassifierCV\n",
    "from sklearn.linear_model import LogisticRegression\n",
    "from sklearn.metrics import accuracy_score, confusion_matrix, classification_report\n",
    "\n",
    "def eval():\n",
    "    X_train, X_test = embeddings, embeddings_val\n",
    "    y_train, y_test = labels, labels_val\n",
    "\n",
    "    print(\"train\", X_train.shape[0], len(y_train))\n",
    "    print(\"test\", X_test.shape[0], len(y_test))\n",
    "    \n",
    "    clf = LogisticRegression(max_iter=100)\n",
    "    clf = CalibratedClassifierCV(clf)\n",
    "    \n",
    "    clf.fit(X_train, y_train)\n",
    "    \n",
    "    y_pred = clf.predict(X_test)\n",
    "    \n",
    "    acc = accuracy_score(y_test, y_pred)\n",
    "    conf_matrix = confusion_matrix(y_test, y_pred)\n",
    "    class_report = classification_report(y_test, y_pred)\n",
    "    \n",
    "    print(\"Accuracy: \", acc)\n",
    "    print(\"Confusion matrix: \\n\", conf_matrix)\n",
    "    print(\"Classification report: \\n\", class_report)\n",
    "    \n",
    "    y_pred_train = clf.predict(X_train)\n",
    "    class_report = classification_report(y_train, y_pred_train)\n",
    "    print(\"Classification report train: \\n\", class_report)"
   ]
  },
  {
   "cell_type": "code",
   "execution_count": 23,
   "id": "a77a6cba",
   "metadata": {},
   "outputs": [
    {
     "name": "stdout",
     "output_type": "stream",
     "text": [
      "train 5000 5000\n",
      "test 8000 8000\n",
      "Accuracy:  0.856\n",
      "Confusion matrix: \n",
      " [[757  11   5   1   0   1   1   0  13  11]\n",
      " [ 11 666   0  49   8  21   7  38   0   0]\n",
      " [  2   4 756   0   0   0   0   0   1  37]\n",
      " [  0  42   0 547  45 109   4  52   1   0]\n",
      " [  0  20   1  38 669  25  33  14   0   0]\n",
      " [  0  15   0  41  44 576  57  65   1   1]\n",
      " [  1   3   0   7  30  38 697  19   0   5]\n",
      " [  0  36   0  57  19  40   4 644   0   0]\n",
      " [  7   0   0   2   0   0   0   0 782   9]\n",
      " [  8   2  19   2   0   0   0   1  14 754]]\n",
      "Classification report: \n",
      "               precision    recall  f1-score   support\n",
      "\n",
      "           0       0.96      0.95      0.95       800\n",
      "           1       0.83      0.83      0.83       800\n",
      "           2       0.97      0.94      0.96       800\n",
      "           3       0.74      0.68      0.71       800\n",
      "           4       0.82      0.84      0.83       800\n",
      "           5       0.71      0.72      0.72       800\n",
      "           6       0.87      0.87      0.87       800\n",
      "           7       0.77      0.81      0.79       800\n",
      "           8       0.96      0.98      0.97       800\n",
      "           9       0.92      0.94      0.93       800\n",
      "\n",
      "    accuracy                           0.86      8000\n",
      "   macro avg       0.86      0.86      0.86      8000\n",
      "weighted avg       0.86      0.86      0.86      8000\n",
      "\n",
      "Classification report train: \n",
      "               precision    recall  f1-score   support\n",
      "\n",
      "           0       0.97      0.98      0.97       500\n",
      "           1       0.85      0.87      0.86       500\n",
      "           2       0.99      0.96      0.97       500\n",
      "           3       0.78      0.71      0.74       500\n",
      "           4       0.85      0.89      0.87       500\n",
      "           5       0.77      0.78      0.78       500\n",
      "           6       0.88      0.89      0.88       500\n",
      "           7       0.82      0.84      0.83       500\n",
      "           8       0.97      0.98      0.98       500\n",
      "           9       0.95      0.96      0.95       500\n",
      "\n",
      "    accuracy                           0.88      5000\n",
      "   macro avg       0.88      0.88      0.88      5000\n",
      "weighted avg       0.88      0.88      0.88      5000\n",
      "\n"
     ]
    }
   ],
   "source": [
    "# encoder_sigcon_alpha0.1_gamma2.0_cosine_schedule20k.pth\n",
    "eval()"
   ]
  },
  {
   "cell_type": "code",
   "execution_count": null,
   "id": "569c44d8",
   "metadata": {},
   "outputs": [],
   "source": []
  }
 ],
 "metadata": {
  "kernelspec": {
   "display_name": "Python 3 (ipykernel)",
   "language": "python",
   "name": "python3"
  },
  "language_info": {
   "codemirror_mode": {
    "name": "ipython",
    "version": 3
   },
   "file_extension": ".py",
   "mimetype": "text/x-python",
   "name": "python",
   "nbconvert_exporter": "python",
   "pygments_lexer": "ipython3",
   "version": "3.10.13"
  }
 },
 "nbformat": 4,
 "nbformat_minor": 5
}
